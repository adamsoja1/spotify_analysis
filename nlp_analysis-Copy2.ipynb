{
 "cells": [
  {
   "cell_type": "code",
   "execution_count": 1,
   "id": "fd2da13d-671e-47a5-9e8c-1cc169bb02e3",
   "metadata": {},
   "outputs": [],
   "source": [
    "from sentence_transformers import SentenceTransformer\n",
    "import pandas as pd\n",
    "import seaborn as sns\n",
    "import matplotlib.pyplot as plt\n",
    "import pandas as pd\n",
    "from sklearn.datasets import load_iris\n",
    "from sklearn.model_selection import train_test_split\n",
    "from sklearn.linear_model import LogisticRegression\n",
    "from sklearn.ensemble import RandomForestClassifier, GradientBoostingClassifier, AdaBoostClassifier\n",
    "from sklearn.svm import SVC\n",
    "from sklearn.neighbors import KNeighborsClassifier\n",
    "from sklearn.tree import DecisionTreeClassifier\n",
    "from sklearn.naive_bayes import GaussianNB\n",
    "from sklearn.metrics import accuracy_score\n",
    "\n",
    "model = SentenceTransformer(\"all-mpnet-base-v2\", device='cuda')\n",
    "df = pd.read_excel('Spotify_data.xlsx')"
   ]
  },
  {
   "cell_type": "code",
   "execution_count": 2,
   "id": "d97c6a4b-56d3-4707-9ec4-32762678775e",
   "metadata": {},
   "outputs": [],
   "source": [
    "df = df.drop('preffered_premium_plan', axis=1)\n",
    "df = df.dropna()\n",
    "\n",
    "Y = df['premium_sub_willingness']\n",
    "df = df.drop(columns=['premium_sub_willingness'])"
   ]
  },
  {
   "cell_type": "code",
   "execution_count": 3,
   "id": "c8a3b483-a553-438c-81db-b0e05aa397b3",
   "metadata": {},
   "outputs": [],
   "source": [
    "df['combined'] = df.apply(lambda row: ', '.join(row.astype(str)), axis=1)"
   ]
  },
  {
   "cell_type": "code",
   "execution_count": 4,
   "id": "c4121116-c2b7-4bbc-9953-d8e247ccde84",
   "metadata": {},
   "outputs": [
    {
     "data": {
      "text/plain": [
       "0      20-35, Female, More than 2 years, Smart speake...\n",
       "4      20-35, Female, 1 year to 2 years, Smartphone, ...\n",
       "7      20-35, Female, Less than 6 months, Smartphone,...\n",
       "8      20-35, Female, Less than 6 months, Smartphone,...\n",
       "10     20-35, Female, More than 2 years, Smartphone, ...\n",
       "                             ...                        \n",
       "511    20-35, Female, More than 2 years, Smartphone, ...\n",
       "512    20-35, Female, More than 2 years, Smartphone, ...\n",
       "515    20-35, Female, More than 2 years, Smartphone, ...\n",
       "516    20-35, Female, More than 2 years, Smartphone, ...\n",
       "518    20-35, Female, 6 months to 1 year, Smartphone,...\n",
       "Name: combined, Length: 344, dtype: object"
      ]
     },
     "execution_count": 4,
     "metadata": {},
     "output_type": "execute_result"
    }
   ],
   "source": [
    "df['combined']"
   ]
  },
  {
   "cell_type": "code",
   "execution_count": 5,
   "id": "f28a466b-ae29-4457-acbf-306cef06be02",
   "metadata": {},
   "outputs": [],
   "source": [
    "embeddings = []"
   ]
  },
  {
   "cell_type": "code",
   "execution_count": 6,
   "id": "155db806-81c4-4b68-b21e-af46289c230b",
   "metadata": {},
   "outputs": [],
   "source": [
    "for feature in df['combined']:\n",
    "    embed = model.encode(feature)\n",
    "    embeddings.append(embed)\n",
    "    "
   ]
  },
  {
   "cell_type": "code",
   "execution_count": 7,
   "id": "f7515c34-bd62-4992-b5fc-a7231f17b1aa",
   "metadata": {},
   "outputs": [],
   "source": [
    "df['embeddings'] = embeddings"
   ]
  },
  {
   "cell_type": "code",
   "execution_count": 8,
   "id": "f547921a-91fb-4d8e-b10f-5c72090aebdc",
   "metadata": {},
   "outputs": [],
   "source": [
    "from sklearn.model_selection import train_test_split\n",
    "X_train, X_test, y_train, y_test = train_test_split(embeddings, Y, test_size=0.2, random_state=0, stratify=Y)"
   ]
  },
  {
   "cell_type": "code",
   "execution_count": 9,
   "id": "330f9967-9752-401b-9a43-9532f338f253",
   "metadata": {},
   "outputs": [
    {
     "name": "stdout",
     "output_type": "stream",
     "text": [
      "Random Forest Classifier Accuracy: 0.71\n"
     ]
    }
   ],
   "source": [
    "rf_clf = RandomForestClassifier(n_estimators=100, random_state=42)\n",
    "rf_clf.fit(X_train, y_train)\n",
    "y_pred_rf = rf_clf.predict(X_test)\n",
    "rf_accuracy = accuracy_score(y_test, y_pred_rf)\n",
    "print(f\"Random Forest Classifier Accuracy: {rf_accuracy:.2f}\")"
   ]
  },
  {
   "cell_type": "code",
   "execution_count": 10,
   "id": "1e7f5d45-5d2a-4b33-a173-9ec84e398a06",
   "metadata": {},
   "outputs": [
    {
     "name": "stdout",
     "output_type": "stream",
     "text": [
      "Logistic Regression Accuracy: 0.72\n"
     ]
    }
   ],
   "source": [
    "log_reg = LogisticRegression(max_iter=200)\n",
    "log_reg.fit(X_train, y_train)\n",
    "y_pred_log_reg = log_reg.predict(X_test)\n",
    "log_reg_accuracy = accuracy_score(y_test, y_pred_log_reg)\n",
    "print(f\"Logistic Regression Accuracy: {log_reg_accuracy:.2f}\")"
   ]
  },
  {
   "cell_type": "code",
   "execution_count": 11,
   "id": "9ced2e4d-aacb-4df0-9bf7-75b50f89ed0a",
   "metadata": {},
   "outputs": [
    {
     "name": "stdout",
     "output_type": "stream",
     "text": [
      "Support Vector Classifier Accuracy: 0.74\n"
     ]
    }
   ],
   "source": [
    "svc = SVC()\n",
    "svc.fit(X_train, y_train)\n",
    "y_pred_svc = svc.predict(X_test)\n",
    "svc_accuracy = accuracy_score(y_test, y_pred_svc)\n",
    "print(f\"Support Vector Classifier Accuracy: {svc_accuracy:.2f}\")"
   ]
  },
  {
   "cell_type": "code",
   "execution_count": 12,
   "id": "c2898756-57f2-42eb-b877-4bd9de0f59bc",
   "metadata": {},
   "outputs": [
    {
     "name": "stdout",
     "output_type": "stream",
     "text": [
      "K-Nearest Neighbors Classifier Accuracy: 0.70\n"
     ]
    }
   ],
   "source": [
    "knn = KNeighborsClassifier()\n",
    "knn.fit(X_train, y_train)\n",
    "y_pred_knn = knn.predict(X_test)\n",
    "knn_accuracy = accuracy_score(y_test, y_pred_knn)\n",
    "print(f\"K-Nearest Neighbors Classifier Accuracy: {knn_accuracy:.2f}\")"
   ]
  },
  {
   "cell_type": "code",
   "execution_count": 13,
   "id": "b423f4be-2d02-42b8-a294-eaa59f6010be",
   "metadata": {},
   "outputs": [
    {
     "name": "stdout",
     "output_type": "stream",
     "text": [
      "Decision Tree Classifier Accuracy: 0.59\n"
     ]
    }
   ],
   "source": [
    "dt_clf = DecisionTreeClassifier(random_state=42)\n",
    "dt_clf.fit(X_train, y_train)\n",
    "y_pred_dt = dt_clf.predict(X_test)\n",
    "dt_accuracy = accuracy_score(y_test, y_pred_dt)\n",
    "print(f\"Decision Tree Classifier Accuracy: {dt_accuracy:.2f}\")"
   ]
  },
  {
   "cell_type": "code",
   "execution_count": 14,
   "id": "2ffae210-2463-4708-90af-ec17194b3ba6",
   "metadata": {},
   "outputs": [
    {
     "name": "stdout",
     "output_type": "stream",
     "text": [
      "Gradient Boosting Classifier Accuracy: 0.67\n"
     ]
    },
    {
     "name": "stderr",
     "output_type": "stream",
     "text": [
      "/home/adam/miniconda3/envs/llm/lib/python3.10/site-packages/sklearn/ensemble/_weight_boosting.py:519: FutureWarning: The SAMME.R algorithm (the default) is deprecated and will be removed in 1.6. Use the SAMME algorithm to circumvent this warning.\n",
      "  warnings.warn(\n"
     ]
    },
    {
     "name": "stdout",
     "output_type": "stream",
     "text": [
      "AdaBoost Classifier Accuracy: 0.62\n",
      "Naive Bayes Classifier Accuracy: 0.71\n"
     ]
    }
   ],
   "source": [
    "gb_clf = GradientBoostingClassifier(random_state=42)\n",
    "gb_clf.fit(X_train, y_train)\n",
    "y_pred_gb = gb_clf.predict(X_test)\n",
    "gb_accuracy = accuracy_score(y_test, y_pred_gb)\n",
    "print(f\"Gradient Boosting Classifier Accuracy: {gb_accuracy:.2f}\")\n",
    "\n",
    "# AdaBoost Classifier\n",
    "ada_clf = AdaBoostClassifier(random_state=42)\n",
    "ada_clf.fit(X_train, y_train)\n",
    "y_pred_ada = ada_clf.predict(X_test)\n",
    "ada_accuracy = accuracy_score(y_test, y_pred_ada)\n",
    "print(f\"AdaBoost Classifier Accuracy: {ada_accuracy:.2f}\")\n",
    "\n",
    "# Naive Bayes Classifier\n",
    "nb_clf = GaussianNB()\n",
    "nb_clf.fit(X_train, y_train)\n",
    "y_pred_nb = nb_clf.predict(X_test)\n",
    "nb_accuracy = accuracy_score(y_test, y_pred_nb)\n",
    "print(f\"Naive Bayes Classifier Accuracy: {nb_accuracy:.2f}\")"
   ]
  },
  {
   "cell_type": "code",
   "execution_count": null,
   "id": "7a6e6d20-eb67-46d5-a4c9-86f5b3471faf",
   "metadata": {},
   "outputs": [],
   "source": []
  }
 ],
 "metadata": {
  "kernelspec": {
   "display_name": "Python 3 (ipykernel)",
   "language": "python",
   "name": "python3"
  },
  "language_info": {
   "codemirror_mode": {
    "name": "ipython",
    "version": 3
   },
   "file_extension": ".py",
   "mimetype": "text/x-python",
   "name": "python",
   "nbconvert_exporter": "python",
   "pygments_lexer": "ipython3",
   "version": "3.10.13"
  }
 },
 "nbformat": 4,
 "nbformat_minor": 5
}
